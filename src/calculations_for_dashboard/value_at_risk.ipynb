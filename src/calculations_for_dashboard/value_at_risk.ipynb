{
 "cells": [
  {
   "cell_type": "markdown",
   "metadata": {},
   "source": [
    "# Caluclate value at risk values"
   ]
  },
  {
   "cell_type": "code",
   "execution_count": 5,
   "metadata": {},
   "outputs": [],
   "source": [
    "import pandas as pd\n",
    "import os\n",
    "\n",
    "# Basis path\n",
    "base_path = os.path.abspath(os.path.join(os.getcwd(), \"..\", \"..\", \"data\", \"algorithms_results\"))\n",
    "output_path = os.path.abspath(os.path.join(os.getcwd(), \"..\", \"..\", \"data\", \"algorithms_results\", \"Value_at_Risk\"))\n",
    "\n",
    "#algorithms\n",
    "algorithm_data = [\n",
    "    \"1_ETC\", \"2_Greedy\", \"3_UCB\", \"4_UCB-Normal\", \"5_UCB-Tuned\", \"6_UCB-V\", \"7_PAC-UCB\", \"8_UCB-Improved\", \"9_EUCBV\"\n",
    "]\n",
    "\n",
    "# Dateikombinationen\n",
    "combinations = [\n",
    "    \"opt_ver1\", \"opt_ver2\", \"opt_ver3\",\n",
    "    \"subopt_ver1\", \"subopt_ver2\", \"subopt_ver3\"\n",
    "]\n",
    "alpha_values = [0.01, 0.05, 0.1]\n",
    "\n",
    "def calculate_value_at_risk(df, alpha):\n",
    "    timesteps = df['Timestep'].unique()\n",
    "    return [df[df['Timestep'] == t]['Total Regret'].quantile(1 - alpha) for t in timesteps]\n",
    "\n",
    "def main():\n",
    "    if not os.path.exists(output_path):\n",
    "        os.makedirs(output_path)\n",
    "    \n",
    "    for algo in algorithm_data:\n",
    "\n",
    "        for combination in combinations:\n",
    "                \n",
    "            results_path = os.path.join(base_path, f\"{algo}_results_{combination}.csv\")\n",
    "            df = pd.read_csv(results_path)\n",
    "            \n",
    "            for alpha in alpha_values:\n",
    "                var_values = calculate_value_at_risk(df, alpha)\n",
    "                output_file = os.path.join(output_path, f\"{algo}_VaR_{combination}_alpha_{alpha}.csv\")\n",
    "                pd.DataFrame({\n",
    "                    'Timestep': df['Timestep'].unique(),\n",
    "                    'Value_at_Risk': var_values\n",
    "                }).to_csv(output_file, index=False)\n",
    "\n",
    "if __name__ == \"__main__\":\n",
    "    main()\n"
   ]
  },
  {
   "cell_type": "markdown",
   "metadata": {},
   "source": [
    "## Calculate Value at Risk for Groups of Algorithms as averages"
   ]
  },
  {
   "cell_type": "code",
   "execution_count": null,
   "metadata": {},
   "outputs": [],
   "source": [
    "# Base path\n",
    "base_path = os.path.abspath(os.path.join(os.getcwd(), \"..\", \"..\", \"data\", \"algorithms_results\"))\n",
    "\n",
    "# Variance-aware und nicht-variance-aware Algorithmen\n",
    "var_aware_algorithms = [\"5_UCB-Tuned\", \"6_UCB-V\", \"9_EUCBV\"]\n",
    "not_var_aware_algorithms = [\"7_PAC-UCB\", \"8_UCB-Improved\"]\n",
    "standard_algorithms = [\"1_ETC\", \"2_Greedy\", \"3_UCB\", \"4_UCB-Normal\"]\n",
    "\n",
    "# Dateikombinationen\n",
    "combinations = [\n",
    "    \"opt_ver1\", \"opt_ver2\", \"opt_ver3\",\n",
    "    \"subopt_ver1\", \"subopt_ver2\", \"subopt_ver3\"\n",
    "]\n",
    "\n",
    "# Funktion zum Berechnen des Durchschnitts und Speichern der Ergebnisse\n",
    "def calculate_average_and_save(algorithms, output_file_suffix):\n",
    "    for combination in combinations:\n",
    "        combined_df = None\n",
    "\n",
    "        for algorithm in algorithms:\n",
    "            file_path = os.path.join(base_path, f\"{algorithm}_results_{combination}.csv\")\n",
    "            df = pd.read_csv(file_path)\n",
    "\n",
    "            if combined_df is None:\n",
    "                combined_df = df\n",
    "            else:\n",
    "                combined_df.iloc[:, 1:] += df.iloc[:, 1:]  # Addiere die Werte der entsprechenden Spalten\n",
    "\n",
    "        combined_df.iloc[:, 1:] /= len(algorithms)  # Berechne den Durchschnitt\n",
    "\n",
    "        output_file_path = os.path.join(base_path, f\"{output_file_suffix}_results_{combination}.csv\")\n",
    "        combined_df.to_csv(output_file_path, index=False)\n",
    "\n",
    "# Berechne und speichere die Durchschnittswerte für variance-aware Algorithmen\n",
    "calculate_average_and_save(var_aware_algorithms, \"Variance-aware UCB Variations\")\n",
    "\n",
    "# Berechne und speichere die Durchschnittswerte für nicht-variance-aware Algorithmen\n",
    "calculate_average_and_save(not_var_aware_algorithms, \"Not-variance-aware UCB Variations\")\n",
    "\n",
    "# Berechne und speichere die Durchschnittswerte für nicht-variance-aware Algorithmen\n",
    "calculate_average_and_save(standard_algorithms, \"Standard Algorithms\")\n",
    "\n",
    "print(\"Durchschnittswerte erfolgreich berechnet und gespeichert.\")\n"
   ]
  }
 ],
 "metadata": {
  "kernelspec": {
   "display_name": ".venv",
   "language": "python",
   "name": "python3"
  },
  "language_info": {
   "codemirror_mode": {
    "name": "ipython",
    "version": 3
   },
   "file_extension": ".py",
   "mimetype": "text/x-python",
   "name": "python",
   "nbconvert_exporter": "python",
   "pygments_lexer": "ipython3",
   "version": "3.12.6"
  }
 },
 "nbformat": 4,
 "nbformat_minor": 2
}
